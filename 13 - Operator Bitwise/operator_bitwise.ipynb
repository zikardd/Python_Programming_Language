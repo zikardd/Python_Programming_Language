{
  "nbformat": 4,
  "nbformat_minor": 0,
  "metadata": {
    "colab": {
      "provenance": []
    },
    "kernelspec": {
      "name": "python3",
      "display_name": "Python 3"
    },
    "language_info": {
      "name": "python"
    }
  },
  "cells": [
    {
      "cell_type": "code",
      "execution_count": null,
      "metadata": {
        "id": "lpYZlXs1O34s"
      },
      "outputs": [],
      "source": [
        "# operasi bitwise(masing-masing bit), yaitu operasi biner "
      ]
    },
    {
      "cell_type": "code",
      "source": [
        "a = 9\n",
        "b = 5\n",
        "\n",
        "print('Nilai',a,'memiliki nilai binary',format(a,'08b'))\n",
        "print('Nilai',b,'memiliki nilai binary',format(b,'08b'))"
      ],
      "metadata": {
        "colab": {
          "base_uri": "https://localhost:8080/"
        },
        "id": "9_HXblEyQSE6",
        "outputId": "fc61d8df-98e4-46d4-eb7a-ad036ddc62a8"
      },
      "execution_count": 3,
      "outputs": [
        {
          "output_type": "stream",
          "name": "stdout",
          "text": [
            "Nilai 9 memiliki nilai binary 00001001\n",
            "Nilai 5 memiliki nilai binary 00000101\n"
          ]
        }
      ]
    },
    {
      "cell_type": "markdown",
      "source": [
        "# Bitwise OR (|)"
      ],
      "metadata": {
        "id": "cCV9SAR7QVh8"
      }
    },
    {
      "cell_type": "code",
      "source": [
        "c = a | b\n",
        "print('Nilai',c,'memiliki nilai binary',format(c,'08b'))"
      ],
      "metadata": {
        "colab": {
          "base_uri": "https://localhost:8080/"
        },
        "id": "oA9GXbFaQVAZ",
        "outputId": "5dc010ef-7630-4840-c5b1-ebc2a2fdf55c"
      },
      "execution_count": 4,
      "outputs": [
        {
          "output_type": "stream",
          "name": "stdout",
          "text": [
            "Nilai 13 memiliki nilai binary 00001101\n"
          ]
        }
      ]
    },
    {
      "cell_type": "markdown",
      "source": [
        "# Bitwise AND (&)"
      ],
      "metadata": {
        "id": "cuRUZEp8RefA"
      }
    },
    {
      "cell_type": "code",
      "source": [
        "c = a & b\n",
        "print('Nilai',c,'memiliki nilai binary',format(c,'08b'))"
      ],
      "metadata": {
        "colab": {
          "base_uri": "https://localhost:8080/"
        },
        "id": "eCFCMmDrReIU",
        "outputId": "d1553c58-31ca-4d5e-fba3-5a8744e98bf3"
      },
      "execution_count": 5,
      "outputs": [
        {
          "output_type": "stream",
          "name": "stdout",
          "text": [
            "Nilai 1 memiliki nilai binary 00000001\n"
          ]
        }
      ]
    },
    {
      "cell_type": "markdown",
      "source": [
        "# Bitwise XOR (^)"
      ],
      "metadata": {
        "id": "_OY1ehhLRrle"
      }
    },
    {
      "cell_type": "code",
      "source": [
        "# XOR akan menghasilkan nilai TRUE jika salah satu operand bernilai TRUE. Namun tidak keduanya\n",
        "c = a ^ b\n",
        "print('Nilai',c,'memiliki nilai binary',format(c,'08b'))"
      ],
      "metadata": {
        "colab": {
          "base_uri": "https://localhost:8080/"
        },
        "id": "wnDpyoHIRrGk",
        "outputId": "b53e48e1-7e5e-44c9-e782-4ec2030d5909"
      },
      "execution_count": 6,
      "outputs": [
        {
          "output_type": "stream",
          "name": "stdout",
          "text": [
            "Nilai 12 memiliki nilai binary 00001100\n"
          ]
        }
      ]
    },
    {
      "cell_type": "markdown",
      "source": [
        "# Bitwise NOT (~)"
      ],
      "metadata": {
        "id": "IpgweYhLRvxM"
      }
    },
    {
      "cell_type": "code",
      "source": [
        "# NOT akan menghasilkan nilai TRUE jika salah satu operand bernilai FALSE.\n",
        "e = 0b1111111111\n",
        "c = e ^ a\n",
        "print('Nilai', c,'memiliki nilai binary',format(c,'08b'))"
      ],
      "metadata": {
        "colab": {
          "base_uri": "https://localhost:8080/"
        },
        "id": "ZZfNH0LARvQ3",
        "outputId": "9bd4d2b4-b083-42dd-e1f1-bdd75b091018"
      },
      "execution_count": 8,
      "outputs": [
        {
          "output_type": "stream",
          "name": "stdout",
          "text": [
            "Nilai 1014 memiliki nilai binary 1111110110\n"
          ]
        }
      ]
    },
    {
      "cell_type": "markdown",
      "source": [
        "# Shift right"
      ],
      "metadata": {
        "id": "9XMDTi1iZKeQ"
      }
    },
    {
      "cell_type": "code",
      "source": [
        "c = a >> 2\n",
        "print('Nilai', c,'memiliki nilai binary',format(c,'08b'))"
      ],
      "metadata": {
        "colab": {
          "base_uri": "https://localhost:8080/"
        },
        "id": "YIDxkNTiZKFy",
        "outputId": "2c25eed4-86a7-4016-f8db-ccfb5085a82e"
      },
      "execution_count": 9,
      "outputs": [
        {
          "output_type": "stream",
          "name": "stdout",
          "text": [
            "Nilai 2 memiliki nilai binary 00000010\n"
          ]
        }
      ]
    },
    {
      "cell_type": "markdown",
      "source": [
        "# Shift left"
      ],
      "metadata": {
        "id": "Xu5ivctlZMeG"
      }
    },
    {
      "cell_type": "code",
      "source": [
        "c = a << 2\n",
        "print('Nilai', c,'memiliki nilai binary',format(c,'08b'))"
      ],
      "metadata": {
        "colab": {
          "base_uri": "https://localhost:8080/"
        },
        "id": "RVHRD1bYZMHd",
        "outputId": "94a39eb6-08df-41ce-afda-fbcf8c5142df"
      },
      "execution_count": 10,
      "outputs": [
        {
          "output_type": "stream",
          "name": "stdout",
          "text": [
            "Nilai 36 memiliki nilai binary 00100100\n"
          ]
        }
      ]
    }
  ]
}