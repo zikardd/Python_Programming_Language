{
  "nbformat": 4,
  "nbformat_minor": 0,
  "metadata": {
    "colab": {
      "provenance": []
    },
    "kernelspec": {
      "name": "python3",
      "display_name": "Python 3"
    },
    "language_info": {
      "name": "python"
    }
  },
  "cells": [
    {
      "cell_type": "markdown",
      "source": [
        "# Normal assignment"
      ],
      "metadata": {
        "id": "ZjeLv0SFGPr4"
      }
    },
    {
      "cell_type": "code",
      "execution_count": 17,
      "metadata": {
        "colab": {
          "base_uri": "https://localhost:8080/"
        },
        "id": "pzXDSitWFVP7",
        "outputId": "ef47a9e8-1314-40dc-a329-f303c75bf546"
      },
      "outputs": [
        {
          "output_type": "stream",
          "name": "stdout",
          "text": [
            "nilai a adalah 5\n"
          ]
        }
      ],
      "source": [
        "a = 5\n",
        "print('nilai a adalah',a)"
      ]
    },
    {
      "cell_type": "markdown",
      "source": [
        "# Operator Assignment"
      ],
      "metadata": {
        "id": "6M_sKma3GT2e"
      }
    },
    {
      "cell_type": "markdown",
      "source": [
        "## Penjumlahan (+=)"
      ],
      "metadata": {
        "id": "xhClxKtwHib7"
      }
    },
    {
      "cell_type": "code",
      "source": [
        "a = a + 1\n",
        "print('nilai a + 1 adalah',a)\n",
        "\n",
        "a += 1\n",
        "print('nilai a += 1 adalah',a)\n",
        "\n",
        "# operator += n memiliki fungsi yang sama dengan variabelnya sendiri dijumlahkan dengan n"
      ],
      "metadata": {
        "colab": {
          "base_uri": "https://localhost:8080/"
        },
        "id": "64K_MREJGTIS",
        "outputId": "39fbc918-ffb2-4137-dea3-cbf6b4420bba"
      },
      "execution_count": 18,
      "outputs": [
        {
          "output_type": "stream",
          "name": "stdout",
          "text": [
            "nilai a + 1 adalah 6\n",
            "nilai a += 1 adalah 7\n"
          ]
        }
      ]
    },
    {
      "cell_type": "markdown",
      "source": [
        "## Pengurangan (-=)"
      ],
      "metadata": {
        "id": "SSVC8rq6HoCt"
      }
    },
    {
      "cell_type": "code",
      "source": [
        "a -= 2\n",
        "print('nilai a -= 2 adalah',a)\n",
        "\n",
        "# operator -= n memiliki fungsi yang sama dengan variabelnya sendiri dikurang dengan n"
      ],
      "metadata": {
        "colab": {
          "base_uri": "https://localhost:8080/"
        },
        "id": "3evq1ucTHWkh",
        "outputId": "6b7e5909-cae9-453c-9be7-2d274eff0103"
      },
      "execution_count": 19,
      "outputs": [
        {
          "output_type": "stream",
          "name": "stdout",
          "text": [
            "nilai a -= 2 adalah 5\n"
          ]
        }
      ]
    },
    {
      "cell_type": "markdown",
      "source": [
        "## Perkalian (*=)"
      ],
      "metadata": {
        "id": "yLU_MOSaIIa2"
      }
    },
    {
      "cell_type": "code",
      "source": [
        "a *= 2\n",
        "print('nilai a *= 2 adalah',a)\n",
        "\n",
        "# operator *= n memiliki fungsi yang sama dengan variabelnya sendiri dikali dengan n"
      ],
      "metadata": {
        "colab": {
          "base_uri": "https://localhost:8080/"
        },
        "id": "jjLghQmnIIG1",
        "outputId": "8134c496-3f37-4d58-8944-598b6ae5e118"
      },
      "execution_count": 20,
      "outputs": [
        {
          "output_type": "stream",
          "name": "stdout",
          "text": [
            "nilai a *= 2 adalah 10\n"
          ]
        }
      ]
    },
    {
      "cell_type": "markdown",
      "source": [
        "## Pembagian (/=)"
      ],
      "metadata": {
        "id": "5lo_CvWJIoen"
      }
    },
    {
      "cell_type": "code",
      "source": [
        "a /= 2\n",
        "print('nilai a /= 2 adalah',a)\n",
        "\n",
        "# operator /= n memiliki fungsi yang sama dengan variabelnya sendiri dibagi dengan n"
      ],
      "metadata": {
        "colab": {
          "base_uri": "https://localhost:8080/"
        },
        "id": "kuk8X0DpIoLt",
        "outputId": "78e4b200-198b-4d46-ed34-0276d27d6962"
      },
      "execution_count": 21,
      "outputs": [
        {
          "output_type": "stream",
          "name": "stdout",
          "text": [
            "nilai a /= 2 adalah 5.0\n"
          ]
        }
      ]
    },
    {
      "cell_type": "markdown",
      "source": [
        "## Modulus (%=)"
      ],
      "metadata": {
        "id": "i7gWuGXQQ-ZT"
      }
    },
    {
      "cell_type": "code",
      "source": [
        "a %= 2\n",
        "print('nilai a %= 3 adalah',a)\n",
        "\n",
        "# operator %= n memiliki fungsi yang sama dengan variabelnya sendiri dimodulus dengan n"
      ],
      "metadata": {
        "colab": {
          "base_uri": "https://localhost:8080/"
        },
        "id": "EMnFJ702Q-Gv",
        "outputId": "dffc5584-469a-4ab4-a736-aedf9d5625a7"
      },
      "execution_count": 22,
      "outputs": [
        {
          "output_type": "stream",
          "name": "stdout",
          "text": [
            "nilai a %= 3 adalah 1.0\n"
          ]
        }
      ]
    },
    {
      "cell_type": "markdown",
      "source": [
        "## Floor Division (//=)"
      ],
      "metadata": {
        "id": "mCsKJiRERd16"
      }
    },
    {
      "cell_type": "code",
      "source": [
        "a //= 1\n",
        "print('nilai a //= 1 adalah',a)\n",
        "\n",
        "# operator //= n memiliki fungsi yang sama dengan variabelnya sendiri dibagi dengan n dan dibulatkan ke bawah"
      ],
      "metadata": {
        "colab": {
          "base_uri": "https://localhost:8080/"
        },
        "id": "o10RJtR0RdjX",
        "outputId": "ab0dd207-a517-4b3c-cbbb-59a19bdc64e2"
      },
      "execution_count": 24,
      "outputs": [
        {
          "output_type": "stream",
          "name": "stdout",
          "text": [
            "nilai a //= 1 adalah 0.0\n"
          ]
        }
      ]
    },
    {
      "cell_type": "markdown",
      "source": [
        "## Pangkat (**=)"
      ],
      "metadata": {
        "id": "bxikrknQSPhS"
      }
    },
    {
      "cell_type": "code",
      "source": [
        "a **= 1\n",
        "print('nilai a **= 1 adalah',a)\n",
        "\n",
        "# operator //= n memiliki fungsi yang sama dengan variabelnya sendiri dipangkat dengan n"
      ],
      "metadata": {
        "colab": {
          "base_uri": "https://localhost:8080/"
        },
        "id": "2xDDNlXeSPQX",
        "outputId": "c9eed003-c816-46d6-fa72-ef2ceda8b54d"
      },
      "execution_count": 25,
      "outputs": [
        {
          "output_type": "stream",
          "name": "stdout",
          "text": [
            "nilai a **= 1 adalah 0.0\n"
          ]
        }
      ]
    }
  ]
}